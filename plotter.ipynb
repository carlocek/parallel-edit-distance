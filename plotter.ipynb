{
 "cells": [
  {
   "cell_type": "code",
   "execution_count": null,
   "metadata": {},
   "outputs": [],
   "source": [
    "import matplotlib.pyplot as plt\n",
    "\n",
    "parallel10000 = [0.476890, 0.412408, 0.405287, 0.969565, 2.350730]\n",
    "sequential10000 = [0.476890 for i in range(5)]\n",
    "\n",
    "parallel30000 = [5.272685, 2.410660, 2.041005, 4.542253, 9.890970]\n",
    "sequential30000 = [5.272685 for i in range(5)]\n",
    "\n",
    "parallel50000 = [14.689158, 8.544231, 7.490945, 8.686350, 14.372402]\n",
    "sequential50000 = [14.689158 for i in range(5)]\n",
    "\n",
    "parallel70000 = [150.853337, 16.808695, 14.335703, 14.769285, 23.277734]\n",
    "sequential70000 = [150.853337 for i in range(5)]"
   ]
  }
 ],
 "metadata": {
  "language_info": {
   "name": "python"
  },
  "orig_nbformat": 4
 },
 "nbformat": 4,
 "nbformat_minor": 2
}
